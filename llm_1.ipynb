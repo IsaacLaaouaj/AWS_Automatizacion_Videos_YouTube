{
 "cells": [
  {
   "cell_type": "code",
   "execution_count": 7,
   "metadata": {},
   "outputs": [
    {
     "data": {
      "application/vnd.jupyter.widget-view+json": {
       "model_id": "8085db0e202b4ca08450b5bbf7128c36",
       "version_major": 2,
       "version_minor": 0
      },
      "text/plain": [
       "Downloading config.json:   0%|          | 0.00/718 [00:00<?, ?B/s]"
      ]
     },
     "metadata": {},
     "output_type": "display_data"
    },
    {
     "name": "stderr",
     "output_type": "stream",
     "text": [
      "c:\\Users\\Usuario\\AppData\\Local\\Programs\\Python\\Python311\\Lib\\site-packages\\huggingface_hub\\file_download.py:133: UserWarning: `huggingface_hub` cache-system uses symlinks by default to efficiently store duplicated files but your machine does not support them in C:\\Users\\Usuario\\.cache\\huggingface\\hub. Caching files will still work but in a degraded version that might require more space on your disk. This warning can be disabled by setting the `HF_HUB_DISABLE_SYMLINKS_WARNING` environment variable. For more details, see https://huggingface.co/docs/huggingface_hub/how-to-cache#limitations.\n",
      "To support symlinks on Windows, you either need to activate Developer Mode or to run Python as an administrator. In order to see activate developer mode, see this article: https://docs.microsoft.com/en-us/windows/apps/get-started/enable-your-device-for-development\n",
      "  warnings.warn(message)\n"
     ]
    },
    {
     "data": {
      "application/vnd.jupyter.widget-view+json": {
       "model_id": "a2ab8b9bfc244db098604dc5735b2f57",
       "version_major": 2,
       "version_minor": 0
      },
      "text/plain": [
       "Downloading model.safetensors:   0%|          | 0.00/1.52G [00:00<?, ?B/s]"
      ]
     },
     "metadata": {},
     "output_type": "display_data"
    },
    {
     "data": {
      "application/vnd.jupyter.widget-view+json": {
       "model_id": "61183767ab1c409786d730777dbcca70",
       "version_major": 2,
       "version_minor": 0
      },
      "text/plain": [
       "Downloading generation_config.json:   0%|          | 0.00/124 [00:00<?, ?B/s]"
      ]
     },
     "metadata": {},
     "output_type": "display_data"
    },
    {
     "data": {
      "application/vnd.jupyter.widget-view+json": {
       "model_id": "2ded4945e34c47d2a3281df1c67798ea",
       "version_major": 2,
       "version_minor": 0
      },
      "text/plain": [
       "Downloading vocab.json:   0%|          | 0.00/1.04M [00:00<?, ?B/s]"
      ]
     },
     "metadata": {},
     "output_type": "display_data"
    },
    {
     "data": {
      "application/vnd.jupyter.widget-view+json": {
       "model_id": "f51fd3663bc64c94beced243fa8bc6e6",
       "version_major": 2,
       "version_minor": 0
      },
      "text/plain": [
       "Downloading merges.txt:   0%|          | 0.00/456k [00:00<?, ?B/s]"
      ]
     },
     "metadata": {},
     "output_type": "display_data"
    },
    {
     "data": {
      "application/vnd.jupyter.widget-view+json": {
       "model_id": "5ba99e837574483f94fce99c4d0cb7c2",
       "version_major": 2,
       "version_minor": 0
      },
      "text/plain": [
       "Downloading tokenizer.json:   0%|          | 0.00/1.36M [00:00<?, ?B/s]"
      ]
     },
     "metadata": {},
     "output_type": "display_data"
    }
   ],
   "source": [
    "# Use a pipeline as a high-level helper\n",
    "from transformers import pipeline\n",
    "\n",
    "pipe = pipeline(\"text-generation\", model=\"gpt2-medium\")"
   ]
  },
  {
   "cell_type": "code",
   "execution_count": 8,
   "metadata": {},
   "outputs": [
    {
     "name": "stderr",
     "output_type": "stream",
     "text": [
      "Setting `pad_token_id` to `eos_token_id`:50256 for open-end generation.\n"
     ]
    },
    {
     "name": "stdout",
     "output_type": "stream",
     "text": [
      "[{'generated_text': 'Escribe aquí tu texto de inicio para generar continuación. A quien lo cumple, la que está lo que la conocer más bien que a estar, el muerte, l'}]\n"
     ]
    }
   ],
   "source": [
    "generated_text = pipe(\"Escribe aquí tu texto de inicio para generar continuación.\")\n",
    "print(generated_text)\n"
   ]
  },
  {
   "cell_type": "code",
   "execution_count": 13,
   "metadata": {},
   "outputs": [
    {
     "name": "stdout",
     "output_type": "stream",
     "text": [
      "[{'generated_text': 'Write the content of a video, with the title: The 7 definitive keys to increasing self-esteem.\\n\\nWe all face adversity, whether it be physical, emotional, social, or economic. Some examples of emotional and monetary adversity include our job, fear of rejection, lack of sleep, not having enough money, anger or frustration with work, loss of interest in our hobbies or sports, or a partner leaving us. The purpose of this video is to give guidance to guide a reader in creating an image of self-esteem through a video.\\n\\nI present in this video, five essential steps, but also included other important elements such as: why and how a video may help an aspiring or current self-proclaimed speaker of English or a \"fake\" speaker; how to achieve a sense of confidence in order to deliver a message without being \"dumb\"; how to improve a conversation with someone of another language; how to improve speaking with others; and, final thoughts.\\n\\n1. The Story\\n\\n\"Anxiety is when one fears something that might happen to oneself\" (Sigmund Freud), and for a number of reasons we are often less attuned to our fears of the future, than others of our age. With that in mind, here are some of the most important thoughts most of us have (including myself).\\n\\nFear, especially the fear of the unthinkable or the fear that we might be disappointed in ourselves or our relationship, is a very common fear among young people. A survey recently found that over 40% [7] of people under the age of 32 felt \"scared\" or \"bored\" every time they talked to someone. The greatest fear of most young people is not that \"their life will change\" and that they will find their destiny, but that their life will be defined by events they have never prepared for and those they have always believed were outside their will. The fear I usually get in my mind, is the one that I\\'m in denial about: that my choice of job, career, and friends will determine what I have for the rest of my life.\\n\\nWith that said, if we put down our phones and focus on actually experiencing what we want to create in our lives, we can avoid negative responses from the world and live more effectively. What that can accomplish is the freedom to choose life, to love life in this moment, and to choose life with a purpose rather than to choose for nothing. When we commit to making a clear choice throughout our life as to what we want, what kind of life we want, and who we choose that for us, how we choose to live our life, and in what situation we choose to live it, our life can become an incredible one.\\n\\n2. Video 1\\n\\nIf your goals for the future, how you want to get to that future, and the person you are pursuing, this might be our greatest lesson. Our lives can be short, but most individuals focus on the short term – our kids, who we can afford to pay for, or our cars, or our health insurance – without thinking about their futures, and it can be hard to make a clear choice about their future. In order to create a clear and lasting choice about the future, you need to create a vision to guide your life through every moment of the rest of your life. How do you do this? For those who are ready to begin, a life vision may be your partner.\\n\\n3. The key\\n\\nThis video addresses five key elements of a \"self-esteem\" video: the steps it takes you toward creating an image of self worth. This Whether you will write a video of yourself creating your own self-esteem by doing the steps of this video to learn about \"how to achieve self-esteem: the 7 definitive keys to increasing self-esteem,\" or you will simply give yourself an \"ideal\" perspective, I suggest that you take this video with you. You may take it in your hand the night before using it to write one of your most important goals to yourself in the morning. You would be wise to have an \"ideal\" perspective of how you could use this video to help create change in your life, whether on something personal, as your partner in life or as a job candidate.\\n\\nAnd, most importantly, in this video, a video that is a foundation for helping you become your most confident, open, open, happy, and productive self.\\n\\nAs always, I would love to hear any feedback you can give to this video in the comments. This can also be a great place to make your case for an individual in real life. Feel free to write your ideas below.'}]\n"
     ]
    }
   ],
   "source": [
    "# Configurar la longitud máxima de secuencia y número de secuencias a generar\n",
    "max_length = 1000  # Cambiar según sea necesario\n",
    "num_return_sequences = 1  # Número de secuencias generadas\n",
    "\n",
    "# Generar texto sin limitación de tokens\n",
    "generated_text = pipe(\n",
    "    \"Write the content of a video, with the title: The 7 definitive keys to increasing self-esteem.\",\n",
    "    max_length=max_length,\n",
    "    num_return_sequences=num_return_sequences,\n",
    "    do_sample=True,  # Permitir muestreo aleatorio\n",
    "    pad_token_id=50256,  # Identificador de token de relleno para GPT-2\n",
    ")\n",
    "\n",
    "# Imprimir el texto generado\n",
    "print(generated_text)"
   ]
  }
 ],
 "metadata": {
  "kernelspec": {
   "display_name": "Python 3",
   "language": "python",
   "name": "python3"
  },
  "language_info": {
   "codemirror_mode": {
    "name": "ipython",
    "version": 3
   },
   "file_extension": ".py",
   "mimetype": "text/x-python",
   "name": "python",
   "nbconvert_exporter": "python",
   "pygments_lexer": "ipython3",
   "version": "3.11.2"
  }
 },
 "nbformat": 4,
 "nbformat_minor": 2
}
