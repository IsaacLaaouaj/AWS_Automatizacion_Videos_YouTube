{
  "nbformat": 4,
  "nbformat_minor": 0,
  "metadata": {
    "colab": {
      "provenance": [],
      "authorship_tag": "ABX9TyOEYaGRMUQ7hTUI6ggSmHvA",
      "include_colab_link": true
    },
    "kernelspec": {
      "name": "python3",
      "display_name": "Python 3"
    },
    "language_info": {
      "name": "python"
    }
  },
  "cells": [
    {
      "cell_type": "markdown",
      "metadata": {
        "id": "view-in-github",
        "colab_type": "text"
      },
      "source": [
        "<a href=\"https://colab.research.google.com/github/IsaacLaaouaj/Vidme/blob/main/Vidme.ipynb\" target=\"_parent\"><img src=\"https://colab.research.google.com/assets/colab-badge.svg\" alt=\"Open In Colab\"/></a>"
      ]
    },
    {
      "cell_type": "markdown",
      "source": [
        "# Titulares, títulos, temas de contenido:"
      ],
      "metadata": {
        "id": "lMh4uqSogtJb"
      }
    },
    {
      "cell_type": "markdown",
      "source": [
        "## YouTube"
      ],
      "metadata": {
        "id": "yg6dNpj5q3cX"
      }
    },
    {
      "cell_type": "code",
      "execution_count": 2,
      "metadata": {
        "id": "Rp-zaxktOP3X"
      },
      "outputs": [],
      "source": [
        "# CONFIG SELENIUM y BEAUTIFULSOUP\n",
        "%%capture\n",
        "!apt update\n",
        "!apt install chromium-chromedriver\n",
        "!pip install selenium\n",
        "\n",
        "from selenium import webdriver\n",
        "from selenium.webdriver.chrome.service import Service\n",
        "from selenium.webdriver.chrome.options import Options\n",
        "from selenium.webdriver.common.by import By\n",
        "from selenium.webdriver.support.ui import WebDriverWait\n",
        "from selenium.webdriver.support import expected_conditions as EC\n",
        "from bs4 import BeautifulSoup\n",
        "import pandas as pd\n",
        "import requests"
      ]
    },
    {
      "cell_type": "code",
      "source": [
        "import time\n",
        "import random\n",
        "\n",
        "# Lista de canales de YouTube\n",
        "youtubers = ['caminoimplacable', 'irenealbacete']\n",
        "\n",
        "datos_totales = []  # Lista para almacenar los datos de los videos\n",
        "\n",
        "for channel in youtubers:\n",
        "  try:\n",
        "      datos_totales = []\n",
        "      chrome_options = Options()\n",
        "      chrome_options.add_argument(\"--headless\")\n",
        "      chrome_options.add_argument('--no-sandbox')\n",
        "      chrome_options.add_argument('--disable-dev-shm-usage')\n",
        "      driver = webdriver.Chrome(options=chrome_options)\n",
        "\n",
        "\n",
        "      url = f'https://www.youtube.com/@{channel}/videos'\n",
        "      driver.get(url)\n",
        "      sleep_time = random.randint(2, 5)  # Esperar entre 2 y 5 segundos\n",
        "      time.sleep(sleep_time)\n",
        "\n",
        "      # Intentar encontrar el elemento deseado\n",
        "      elements = driver.find_elements(By.CLASS_NAME, \"style-scope ytd-rich-grid-media\")\n",
        "      datos = [element.text for element in elements if element.text]\n",
        "      datos_totales.extend(datos)\n",
        "\n",
        "\n",
        "  except Exception as e:\n",
        "      print(f\"Se produjo: {e}\")\n",
        "  finally:\n",
        "      driver.quit()\n"
      ],
      "metadata": {
        "id": "C1o9H5TrvloC"
      },
      "execution_count": 94,
      "outputs": []
    },
    {
      "cell_type": "code",
      "source": [
        "from selenium import webdriver\n",
        "from selenium.webdriver.chrome.options import Options\n",
        "from selenium.webdriver.common.by import By\n",
        "import random\n",
        "import time\n",
        "\n",
        "youtubers = ['caminoimplacable', 'irenealbacete']\n",
        "datos_totales = []  # Lista para almacenar los datos de los videos\n",
        "\n",
        "for channel in youtubers:\n",
        "    try:\n",
        "        chrome_options = Options()\n",
        "        chrome_options.add_argument(\"--headless\")\n",
        "        chrome_options.add_argument('--no-sandbox')\n",
        "        chrome_options.add_argument('--disable-dev-shm-usage')\n",
        "        driver = webdriver.Chrome(options=chrome_options)\n",
        "\n",
        "        url = f'https://www.youtube.com/@{channel}/videos'\n",
        "        driver.get(url)\n",
        "\n",
        "        # Esperar entre 2 y 5 segundos (random)\n",
        "        sleep_time = random.randint(2, 5)\n",
        "        time.sleep(sleep_time)\n",
        "\n",
        "        # Encontrar los elementos de los títulos de los videos\n",
        "        elements = driver.find_elements(By.CLASS_NAME, \"style-scope ytd-rich-grid-media\")\n",
        "        datos = [element.text for element in elements if element.text]\n",
        "        datos_totales.append(datos)  # Agregar títulos a la lista total\n",
        "\n",
        "    except Exception as e:\n",
        "        print(f\"Se produjo un error para el canal {channel}: {e}\")\n",
        "    finally:\n",
        "        driver.quit()\n",
        "\n",
        "\n"
      ],
      "metadata": {
        "id": "JnF8aMXLZvT7"
      },
      "execution_count": 105,
      "outputs": []
    },
    {
      "cell_type": "code",
      "source": [
        "\n",
        "lista_unica = sum(datos_totales, [])\n",
        "len(lista_unica)\n",
        "lista_unica"
      ],
      "metadata": {
        "colab": {
          "base_uri": "https://localhost:8080/"
        },
        "id": "oPYFaH2Q2jlP",
        "outputId": "94796f26-46ed-463a-e165-562e0543131f"
      },
      "execution_count": 110,
      "outputs": [
        {
          "output_type": "execute_result",
          "data": {
            "text/plain": [
              "['8:17\\n3 COSAS que ARRUINARÁN tu 2024 ⚠ (Puede que YA sea TARDE...)\\n71K views\\n4 days ago',\n",
              " '8:11\\n☣❗ 7 Técnicas de DOMINANCIA SOCIAL y Las LEYES de PODER | Psicología Oscura\\n24K views\\n3 weeks ago',\n",
              " '☣⛔ El PEOR ERROR de SIMP (tú lo haces) | Técnicas de Seducción | Psicología Oscura\\n146K views\\n1 month ago',\n",
              " '⛔El Desarrollo Personal ARRUINARÁ Tu VIDA Si NO Aplicas ESTO\\n17K views\\n1 month ago',\n",
              " '☣⛔ PSICOLOGÍA OSCURA | 9 Técnicas de MANIPULACIÓN EMOCIONAL y cómo saber si alguien MIENTE\\n124K views\\n1 month ago',\n",
              " '☣ 5 COSAS que todo JOVEN necesita HACER antes de los 30 | Poder, Skills, Ganar Dinero, Inversiones\\n17K views\\n2 months ago',\n",
              " 'Cómo SABER QUE DECIR Siempre | TENER LABIA y Mantener Conversaciones\\n563K views\\n2 months ago',\n",
              " '⛔7 ERRORES Cuando ELLA te IGNORA y se ALEJA (Psicología Femenina) | Como ligar\\n195K views\\n2 months ago',\n",
              " '☣❗7 HACKS | Como SER RESPETADO al Instante\\n61K views\\n2 months ago',\n",
              " '⛔ Como hacer que NO TE IMPORTE lo que PIENSEN de TI | Estoicismo | Geto Suguru\\n30K views\\n3 months ago',\n",
              " '☣❗ Como PERDER el MIEDO al RECHAZO y ser ATREVIDO | Seducción|\\n92K views\\n3 months ago',\n",
              " '☣⛔ 5 Técnicas CALLEJERAS que NECESITAS Saber| Defensa Personal\\n1.3M views\\n3 months ago',\n",
              " '⛔❌ 7 Errores de SIMP que te hacen PERDER el RESPETO de las MUJERES | Coach Online | Seducción\\n235K views\\n3 months ago',\n",
              " '☣❗5 Habilidades PELIGROSAS que TODO HOMBRE debe SABER\\n462K views\\n3 months ago',\n",
              " '☣⛔ PSICOLOGÍA OSCURA 2 | Las 7 TÉCNICAS de MANIPULACIÓN y CONTROL MENTAL\\n272K views\\n4 months ago',\n",
              " '☣⛔ 7 ERRORES GRAVES al LIGAR con MUJERES (Psicología Femenina)\\n1M views\\n4 months ago',\n",
              " '☣❗ Siempre serás DÉBIL si NO Comprendes ESTO... (Puede Herirte)\\n278K views\\n4 months ago',\n",
              " '☣⛔ PERSUASIÓN SUBLIMINAL| Las 5 TÉCNICAS Psicológicas para SEDUCIR y Persuadir a una MUJER\\n118K views\\n4 months ago',\n",
              " '☣⛔ PSICOLOGÍA OSCURA | Las 10 TÉCNICAS de la OBSESIÓN Psicológica [Crea ADICCIÓN]\\n1.5M views\\n5 months ago',\n",
              " '☣❗ 8 TÁCTICAS | Cómo MANIPULAR y SUPERAR a tus RIVALES Sin Esforzarte\\n140K views\\n5 months ago',\n",
              " '(EN SOLO 10 MIN) Cómo NO Ponerse NERVIOSO y reducir la ANSIEDAD fácilmente | 3 Técnicas\\n25K views\\n5 months ago',\n",
              " '⚠❗ Análisis Seducción | Hombre POCO ATRACTIVO vs MILLONARIO |Como LIGAR en la DISCOTECA\\n24K views\\n5 months ago',\n",
              " '❌ LO HACES MAL | Cómo LIGAR en el COLEGIO, UNIVERSIDAD o trabajo | SEDUCCIÓN en la ESCUELA\\n410K views\\n5 months ago',\n",
              " '⛔❗ SE ARREPENTIRÁ | Como OLVIDAR a tu EX y SUPERAR una RUPTURA rápido y sencillo| CONTACTO CERO\\n19K views\\n6 months ago',\n",
              " '☣❗ Cómo ser DISCIPLINADO y Vencer la PEREZA en 6 Minutos | MIYAMOTO MUSASHI\\n37K views\\n6 months ago',\n",
              " '☣⌚ TIENES 3 SEMANAS... | 5 Hábitos que DAÑAN tu CEREBRO sin darte cuenta | 📈ARREGLA TU MENTE!\\n357K views\\n6 months ago',\n",
              " '🔥❗ Cómo ESCRIBIRLE a una CHICA para LIGAR por TINDER, Instagram| Como Iniciar una CONVERSACIÓN\\n130K views\\n6 months ago',\n",
              " '☣❗ Cómo Perder el MIEDO, superar tus COMPLEJOS y quererte más | Motivación | Bienestar Emocional\\n31K views\\n7 months ago',\n",
              " '☣❗Cómo Ganar RESPETO y AUTORIDAD | Los HÁBITOS PROHIBIDOS que limitan tu PODER y te hacen DÉBIL\\n32K views\\n7 months ago',\n",
              " '💡❗ 7 Principios Más IMPORTANTES del ESTOICISMO para MEJORAR tu VIDA y Perder el MIEDO\\n22K views\\n7 months ago',\n",
              " '19:41\\nestrategias para enfrentar tus miedos (vídeo motivacional)\\n30K views\\n2 weeks ago',\n",
              " '15:20\\nCómo dejar de sufrir por la falta de reciprocidad.\\n60K views\\n3 weeks ago',\n",
              " '4 reflexiones para hacernos antes de 2024\\n21K views\\n1 month ago',\n",
              " '¿Cómo crear relaciones más profundas en un mundo superficial?\\n15K views\\n1 month ago',\n",
              " 'Tu mejor versión sin mascaras. ¿Cómo llevar una vida auténtica?\\n26K views\\n1 month ago',\n",
              " 'No sentirás más frustración después de ver este vídeo.\\n18K views\\n1 month ago',\n",
              " 'Las 7 claves definitivas para aumentar la autoestima.\\n29K views\\n2 months ago',\n",
              " 'Tú, Yo y la Soledad.\\n39K views\\n2 months ago',\n",
              " 'Hábitos Estoicos para una Vida Nocturna Productiva\\n32K views\\n2 months ago',\n",
              " 'Cómo tener ÉXITO en cualquier área de tu vida.\\n20K views\\n3 months ago',\n",
              " 'si no sabes que hacer con tu vida, este es tu video.\\n27K views\\n3 months ago',\n",
              " 'la mentalidad que cambió mi vida 2.0\\n254K views\\n3 months ago',\n",
              " 'no sirve de nada ser disciplinado si cometes este gran error\\n17K views\\n4 months ago',\n",
              " 'la mentalidad que cambió mi vida\\n21K views\\n4 months ago',\n",
              " 'dejarás de procrastinar después de ver este video\\n17K views\\n4 months ago',\n",
              " 'la verdad detrás de los hábitos de las personas exitosas...\\n9.2K views\\n4 months ago']"
            ]
          },
          "metadata": {},
          "execution_count": 110
        }
      ]
    },
    {
      "cell_type": "code",
      "source": [
        "# Lista para almacenar solo los títulos extraídos\n",
        "titulos_extraidos = []\n",
        "\n",
        "# Iterar sobre la lista de datos y extraer los títulos\n",
        "for dato in lista_unica:\n",
        "    indice_salto_de_linea = dato.find('\\n')\n",
        "    if indice_salto_de_linea != -1:  # Verificar si se encontró el salto de línea\n",
        "        titulo = dato[:indice_salto_de_linea]\n",
        "        titulos_extraidos.append(titulo)\n"
      ],
      "metadata": {
        "id": "2-QQBTXEqMrl"
      },
      "execution_count": null,
      "outputs": []
    },
    {
      "cell_type": "code",
      "source": [
        "titulos_extraidos"
      ],
      "metadata": {
        "colab": {
          "base_uri": "https://localhost:8080/"
        },
        "id": "y4osAptkdeGI",
        "outputId": "9fae0b48-d6f9-49d6-ef83-bd9c61f7afdf"
      },
      "execution_count": 112,
      "outputs": [
        {
          "output_type": "execute_result",
          "data": {
            "text/plain": [
              "['8:17',\n",
              " '8:11',\n",
              " '☣⛔ El PEOR ERROR de SIMP (tú lo haces) | Técnicas de Seducción | Psicología Oscura',\n",
              " '⛔El Desarrollo Personal ARRUINARÁ Tu VIDA Si NO Aplicas ESTO',\n",
              " '☣⛔ PSICOLOGÍA OSCURA | 9 Técnicas de MANIPULACIÓN EMOCIONAL y cómo saber si alguien MIENTE',\n",
              " '☣ 5 COSAS que todo JOVEN necesita HACER antes de los 30 | Poder, Skills, Ganar Dinero, Inversiones',\n",
              " 'Cómo SABER QUE DECIR Siempre | TENER LABIA y Mantener Conversaciones',\n",
              " '⛔7 ERRORES Cuando ELLA te IGNORA y se ALEJA (Psicología Femenina) | Como ligar',\n",
              " '☣❗7 HACKS | Como SER RESPETADO al Instante',\n",
              " '⛔ Como hacer que NO TE IMPORTE lo que PIENSEN de TI | Estoicismo | Geto Suguru',\n",
              " '☣❗ Como PERDER el MIEDO al RECHAZO y ser ATREVIDO | Seducción|',\n",
              " '☣⛔ 5 Técnicas CALLEJERAS que NECESITAS Saber| Defensa Personal',\n",
              " '⛔❌ 7 Errores de SIMP que te hacen PERDER el RESPETO de las MUJERES | Coach Online | Seducción',\n",
              " '☣❗5 Habilidades PELIGROSAS que TODO HOMBRE debe SABER',\n",
              " '☣⛔ PSICOLOGÍA OSCURA 2 | Las 7 TÉCNICAS de MANIPULACIÓN y CONTROL MENTAL',\n",
              " '☣⛔ 7 ERRORES GRAVES al LIGAR con MUJERES (Psicología Femenina)',\n",
              " '☣❗ Siempre serás DÉBIL si NO Comprendes ESTO... (Puede Herirte)',\n",
              " '☣⛔ PERSUASIÓN SUBLIMINAL| Las 5 TÉCNICAS Psicológicas para SEDUCIR y Persuadir a una MUJER',\n",
              " '☣⛔ PSICOLOGÍA OSCURA | Las 10 TÉCNICAS de la OBSESIÓN Psicológica [Crea ADICCIÓN]',\n",
              " '☣❗ 8 TÁCTICAS | Cómo MANIPULAR y SUPERAR a tus RIVALES Sin Esforzarte',\n",
              " '(EN SOLO 10 MIN) Cómo NO Ponerse NERVIOSO y reducir la ANSIEDAD fácilmente | 3 Técnicas',\n",
              " '⚠❗ Análisis Seducción | Hombre POCO ATRACTIVO vs MILLONARIO |Como LIGAR en la DISCOTECA',\n",
              " '❌ LO HACES MAL | Cómo LIGAR en el COLEGIO, UNIVERSIDAD o trabajo | SEDUCCIÓN en la ESCUELA',\n",
              " '⛔❗ SE ARREPENTIRÁ | Como OLVIDAR a tu EX y SUPERAR una RUPTURA rápido y sencillo| CONTACTO CERO',\n",
              " '☣❗ Cómo ser DISCIPLINADO y Vencer la PEREZA en 6 Minutos | MIYAMOTO MUSASHI',\n",
              " '☣⌚ TIENES 3 SEMANAS... | 5 Hábitos que DAÑAN tu CEREBRO sin darte cuenta | 📈ARREGLA TU MENTE!',\n",
              " '🔥❗ Cómo ESCRIBIRLE a una CHICA para LIGAR por TINDER, Instagram| Como Iniciar una CONVERSACIÓN',\n",
              " '☣❗ Cómo Perder el MIEDO, superar tus COMPLEJOS y quererte más | Motivación | Bienestar Emocional',\n",
              " '☣❗Cómo Ganar RESPETO y AUTORIDAD | Los HÁBITOS PROHIBIDOS que limitan tu PODER y te hacen DÉBIL',\n",
              " '💡❗ 7 Principios Más IMPORTANTES del ESTOICISMO para MEJORAR tu VIDA y Perder el MIEDO',\n",
              " '19:41',\n",
              " '15:20',\n",
              " '4 reflexiones para hacernos antes de 2024',\n",
              " '¿Cómo crear relaciones más profundas en un mundo superficial?',\n",
              " 'Tu mejor versión sin mascaras. ¿Cómo llevar una vida auténtica?',\n",
              " 'No sentirás más frustración después de ver este vídeo.',\n",
              " 'Las 7 claves definitivas para aumentar la autoestima.',\n",
              " 'Tú, Yo y la Soledad.',\n",
              " 'Hábitos Estoicos para una Vida Nocturna Productiva',\n",
              " 'Cómo tener ÉXITO en cualquier área de tu vida.',\n",
              " 'si no sabes que hacer con tu vida, este es tu video.',\n",
              " 'la mentalidad que cambió mi vida 2.0',\n",
              " 'no sirve de nada ser disciplinado si cometes este gran error',\n",
              " 'la mentalidad que cambió mi vida',\n",
              " 'dejarás de procrastinar después de ver este video',\n",
              " 'la verdad detrás de los hábitos de las personas exitosas...']"
            ]
          },
          "metadata": {},
          "execution_count": 112
        }
      ]
    },
    {
      "cell_type": "code",
      "source": [
        "titulos = [elemento for elemento in titulos_extraidos if len(elemento) >= 6]\n",
        "len(titulos)\n",
        "titulos"
      ],
      "metadata": {
        "colab": {
          "base_uri": "https://localhost:8080/"
        },
        "id": "Ubx3uQqydUBn",
        "outputId": "5f1b4205-d04d-4f23-8d9e-fc6419b69a3e"
      },
      "execution_count": 117,
      "outputs": [
        {
          "output_type": "execute_result",
          "data": {
            "text/plain": [
              "['☣⛔ El PEOR ERROR de SIMP (tú lo haces) | Técnicas de Seducción | Psicología Oscura',\n",
              " '⛔El Desarrollo Personal ARRUINARÁ Tu VIDA Si NO Aplicas ESTO',\n",
              " '☣⛔ PSICOLOGÍA OSCURA | 9 Técnicas de MANIPULACIÓN EMOCIONAL y cómo saber si alguien MIENTE',\n",
              " '☣ 5 COSAS que todo JOVEN necesita HACER antes de los 30 | Poder, Skills, Ganar Dinero, Inversiones',\n",
              " 'Cómo SABER QUE DECIR Siempre | TENER LABIA y Mantener Conversaciones',\n",
              " '⛔7 ERRORES Cuando ELLA te IGNORA y se ALEJA (Psicología Femenina) | Como ligar',\n",
              " '☣❗7 HACKS | Como SER RESPETADO al Instante',\n",
              " '⛔ Como hacer que NO TE IMPORTE lo que PIENSEN de TI | Estoicismo | Geto Suguru',\n",
              " '☣❗ Como PERDER el MIEDO al RECHAZO y ser ATREVIDO | Seducción|',\n",
              " '☣⛔ 5 Técnicas CALLEJERAS que NECESITAS Saber| Defensa Personal',\n",
              " '⛔❌ 7 Errores de SIMP que te hacen PERDER el RESPETO de las MUJERES | Coach Online | Seducción',\n",
              " '☣❗5 Habilidades PELIGROSAS que TODO HOMBRE debe SABER',\n",
              " '☣⛔ PSICOLOGÍA OSCURA 2 | Las 7 TÉCNICAS de MANIPULACIÓN y CONTROL MENTAL',\n",
              " '☣⛔ 7 ERRORES GRAVES al LIGAR con MUJERES (Psicología Femenina)',\n",
              " '☣❗ Siempre serás DÉBIL si NO Comprendes ESTO... (Puede Herirte)',\n",
              " '☣⛔ PERSUASIÓN SUBLIMINAL| Las 5 TÉCNICAS Psicológicas para SEDUCIR y Persuadir a una MUJER',\n",
              " '☣⛔ PSICOLOGÍA OSCURA | Las 10 TÉCNICAS de la OBSESIÓN Psicológica [Crea ADICCIÓN]',\n",
              " '☣❗ 8 TÁCTICAS | Cómo MANIPULAR y SUPERAR a tus RIVALES Sin Esforzarte',\n",
              " '(EN SOLO 10 MIN) Cómo NO Ponerse NERVIOSO y reducir la ANSIEDAD fácilmente | 3 Técnicas',\n",
              " '⚠❗ Análisis Seducción | Hombre POCO ATRACTIVO vs MILLONARIO |Como LIGAR en la DISCOTECA',\n",
              " '❌ LO HACES MAL | Cómo LIGAR en el COLEGIO, UNIVERSIDAD o trabajo | SEDUCCIÓN en la ESCUELA',\n",
              " '⛔❗ SE ARREPENTIRÁ | Como OLVIDAR a tu EX y SUPERAR una RUPTURA rápido y sencillo| CONTACTO CERO',\n",
              " '☣❗ Cómo ser DISCIPLINADO y Vencer la PEREZA en 6 Minutos | MIYAMOTO MUSASHI',\n",
              " '☣⌚ TIENES 3 SEMANAS... | 5 Hábitos que DAÑAN tu CEREBRO sin darte cuenta | 📈ARREGLA TU MENTE!',\n",
              " '🔥❗ Cómo ESCRIBIRLE a una CHICA para LIGAR por TINDER, Instagram| Como Iniciar una CONVERSACIÓN',\n",
              " '☣❗ Cómo Perder el MIEDO, superar tus COMPLEJOS y quererte más | Motivación | Bienestar Emocional',\n",
              " '☣❗Cómo Ganar RESPETO y AUTORIDAD | Los HÁBITOS PROHIBIDOS que limitan tu PODER y te hacen DÉBIL',\n",
              " '💡❗ 7 Principios Más IMPORTANTES del ESTOICISMO para MEJORAR tu VIDA y Perder el MIEDO',\n",
              " '4 reflexiones para hacernos antes de 2024',\n",
              " '¿Cómo crear relaciones más profundas en un mundo superficial?',\n",
              " 'Tu mejor versión sin mascaras. ¿Cómo llevar una vida auténtica?',\n",
              " 'No sentirás más frustración después de ver este vídeo.',\n",
              " 'Las 7 claves definitivas para aumentar la autoestima.',\n",
              " 'Tú, Yo y la Soledad.',\n",
              " 'Hábitos Estoicos para una Vida Nocturna Productiva',\n",
              " 'Cómo tener ÉXITO en cualquier área de tu vida.',\n",
              " 'si no sabes que hacer con tu vida, este es tu video.',\n",
              " 'la mentalidad que cambió mi vida 2.0',\n",
              " 'no sirve de nada ser disciplinado si cometes este gran error',\n",
              " 'la mentalidad que cambió mi vida',\n",
              " 'dejarás de procrastinar después de ver este video',\n",
              " 'la verdad detrás de los hábitos de las personas exitosas...']"
            ]
          },
          "metadata": {},
          "execution_count": 117
        }
      ]
    }
  ]
}